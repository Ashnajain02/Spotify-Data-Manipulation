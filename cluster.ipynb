{
  "nbformat": 4,
  "nbformat_minor": 0,
  "metadata": {
    "colab": {
      "name": "cluster.ipynb",
      "provenance": []
    },
    "kernelspec": {
      "name": "python3",
      "display_name": "Python 3"
    },
    "language_info": {
      "name": "python"
    }
  },
  "cells": [
    {
      "cell_type": "code",
      "metadata": {
        "colab": {
          "base_uri": "https://localhost:8080/"
        },
        "id": "FYKNvzE1n-1o",
        "outputId": "7934a2e3-911c-4d99-c645-c9e9f7172949"
      },
      "source": [
        "pip install spotipy"
      ],
      "execution_count": null,
      "outputs": [
        {
          "output_type": "stream",
          "name": "stdout",
          "text": [
            "Collecting spotipy\n",
            "  Downloading spotipy-2.19.0-py3-none-any.whl (27 kB)\n",
            "Requirement already satisfied: six>=1.15.0 in /usr/local/lib/python3.7/dist-packages (from spotipy) (1.15.0)\n",
            "Collecting urllib3>=1.26.0\n",
            "  Downloading urllib3-1.26.7-py2.py3-none-any.whl (138 kB)\n",
            "\u001b[K     |████████████████████████████████| 138 kB 5.0 MB/s \n",
            "\u001b[?25hCollecting requests>=2.25.0\n",
            "  Downloading requests-2.26.0-py2.py3-none-any.whl (62 kB)\n",
            "\u001b[K     |████████████████████████████████| 62 kB 866 kB/s \n",
            "\u001b[?25hRequirement already satisfied: idna<4,>=2.5 in /usr/local/lib/python3.7/dist-packages (from requests>=2.25.0->spotipy) (2.10)\n",
            "Requirement already satisfied: certifi>=2017.4.17 in /usr/local/lib/python3.7/dist-packages (from requests>=2.25.0->spotipy) (2021.10.8)\n",
            "Requirement already satisfied: charset-normalizer~=2.0.0 in /usr/local/lib/python3.7/dist-packages (from requests>=2.25.0->spotipy) (2.0.7)\n",
            "Installing collected packages: urllib3, requests, spotipy\n",
            "  Attempting uninstall: urllib3\n",
            "    Found existing installation: urllib3 1.24.3\n",
            "    Uninstalling urllib3-1.24.3:\n",
            "      Successfully uninstalled urllib3-1.24.3\n",
            "  Attempting uninstall: requests\n",
            "    Found existing installation: requests 2.23.0\n",
            "    Uninstalling requests-2.23.0:\n",
            "      Successfully uninstalled requests-2.23.0\n",
            "\u001b[31mERROR: pip's dependency resolver does not currently take into account all the packages that are installed. This behaviour is the source of the following dependency conflicts.\n",
            "google-colab 1.0.0 requires requests~=2.23.0, but you have requests 2.26.0 which is incompatible.\n",
            "datascience 0.10.6 requires folium==0.2.1, but you have folium 0.8.3 which is incompatible.\u001b[0m\n",
            "Successfully installed requests-2.26.0 spotipy-2.19.0 urllib3-1.26.7\n"
          ]
        }
      ]
    },
    {
      "cell_type": "code",
      "metadata": {
        "id": "4WkQVfgCoCe0"
      },
      "source": [
        "import numpy as np\n",
        "import matplotlib.pyplot as plt\n",
        "import matplotlib.cm as cm\n",
        "import pandas as pd\n",
        "\n",
        "import spotipy\n",
        "from spotipy.oauth2 import SpotifyClientCredentials\n",
        "\n",
        "from sklearn.cluster import KMeans\n",
        "from sklearn.metrics import silhouette_samples, silhouette_score\n",
        "\n",
        "from sklearn.preprocessing import OneHotEncoder\n",
        "from sklearn.preprocessing import StandardScaler, MinMaxScaler\n",
        "from sklearn.model_selection import train_test_split\n",
        "from sklearn.tree import DecisionTreeRegressor\n",
        "from sklearn.neighbors import KNeighborsRegressor\n",
        "\n",
        "\n",
        "from sklearn.model_selection import GridSearchCV\n",
        "from sklearn.metrics import mean_squared_error\n",
        "from sklearn import tree"
      ],
      "execution_count": null,
      "outputs": []
    },
    {
      "cell_type": "code",
      "metadata": {
        "id": "WnCFFsjFoECK"
      },
      "source": [
        "CLIENT_ID     = '3ac63637251243ab9871628ef62018b4'\n",
        "CLIENT_SECRET = 'b27c42db70e046b0b98ad6cfdde08a12'\n",
        "PLAYLIST_ID   = '37i9dQZF1DWYJ5kmTbkZiz' # Spotify playlist id\n",
        "\n",
        "# API Login\n",
        "client_credentials_manager=SpotifyClientCredentials(client_id=CLIENT_ID, client_secret=CLIENT_SECRET)\n",
        "sp = spotipy.Spotify(client_credentials_manager=client_credentials_manager) \n",
        "\n",
        "# Obtain Tracks of Playlist\n",
        "tracks = sp.user_playlist_tracks(user='spotify', playlist_id=PLAYLIST_ID)\n",
        "tracks_uri_list = [x['track']['uri'] for x in tracks['items']]\n",
        "\n",
        "# Obtain Features of Tracks\n",
        "features = []\n",
        "for i in tracks_uri_list:\n",
        "    features = features + sp.audio_features(i)\n",
        "\n",
        "# Create Feature Dataframe\n",
        "df = pd.DataFrame(features)"
      ],
      "execution_count": null,
      "outputs": []
    },
    {
      "cell_type": "code",
      "metadata": {
        "id": "qs7oNj6uoFqx"
      },
      "source": [
        "tracks_df = pd.DataFrame()\n",
        "\n",
        "# Get Track Name\n",
        "tracks_df['track_name'] = [x['track']['name'] for x in tracks['items']]\n",
        "\n",
        "# Get Artists Names\n",
        "artists_names = []\n",
        "for x in tracks['items']:\n",
        "    artists_names.append(', '.join(y['name'] for y in x['track']['artists']))\n",
        "    \n",
        "tracks_df['artists_names'] = artists_names"
      ],
      "execution_count": null,
      "outputs": []
    },
    {
      "cell_type": "markdown",
      "metadata": {
        "id": "R-HfS-GPkLeU"
      },
      "source": [
        "DATA PREPROCESSING\n",
        "\n",
        "Since there were no missing data in each feature, no rows will be dropped. However, since there are some features that are not value adding to the modeling, those will be dropped. The features that will be droppped are: ```analysis_url```, ```id```, ```track_href```, ```type``` and ```uri```."
      ]
    },
    {
      "cell_type": "code",
      "metadata": {
        "colab": {
          "base_uri": "https://localhost:8080/"
        },
        "id": "Obydy74QoG_6",
        "outputId": "adfecedf-ae3b-4b8b-97e6-f2c9f6a1c5ad"
      },
      "source": [
        "# Define Features to Drop\n",
        "dropCols = ['analysis_url', 'id', 'track_href', 'type', 'uri']\n",
        "\n",
        "# Drop Features\n",
        "df.drop(dropCols, axis=1, inplace=True)\n",
        "\n",
        "# Ensure Features are dropped\n",
        "df.columns"
      ],
      "execution_count": null,
      "outputs": [
        {
          "output_type": "execute_result",
          "data": {
            "text/plain": [
              "Index(['danceability', 'energy', 'key', 'loudness', 'mode', 'speechiness',\n",
              "       'acousticness', 'instrumentalness', 'liveness', 'valence', 'tempo',\n",
              "       'duration_ms', 'time_signature'],\n",
              "      dtype='object')"
            ]
          },
          "metadata": {},
          "execution_count": 5
        }
      ]
    },
    {
      "cell_type": "code",
      "metadata": {
        "id": "lvtIt_PYodXp"
      },
      "source": [
        "#Split Data (Independent Variables [X] & Dependent Variable [y])\n",
        "\n",
        "dependentVar = 'danceability' # Goal to predict danceability!\n",
        "\n",
        "X = df.loc[:, df.columns != dependentVar] #Independent\n",
        "y = df[dependentVar].values #Dependent"
      ],
      "execution_count": null,
      "outputs": []
    },
    {
      "cell_type": "code",
      "metadata": {
        "colab": {
          "base_uri": "https://localhost:8080/"
        },
        "id": "wcACupvwozTl",
        "outputId": "eaa2b98d-6b0e-4f9d-f681-c01e27ad1bcb"
      },
      "source": [
        "features = X.columns.tolist() #features that we will use to predict danceability\n",
        "print(features)"
      ],
      "execution_count": null,
      "outputs": [
        {
          "output_type": "stream",
          "name": "stdout",
          "text": [
            "['energy', 'key', 'loudness', 'mode', 'speechiness', 'acousticness', 'instrumentalness', 'liveness', 'valence', 'tempo', 'duration_ms', 'time_signature']\n"
          ]
        }
      ]
    },
    {
      "cell_type": "code",
      "metadata": {
        "id": "3DoaH_nzo3XI"
      },
      "source": [
        "#Feature Scaling\n",
        "sc = StandardScaler()\n",
        "X  = sc.fit_transform(X) #scaled all the features so that they are in the same range"
      ],
      "execution_count": null,
      "outputs": []
    },
    {
      "cell_type": "markdown",
      "metadata": {
        "id": "YT1boaORZUi6"
      },
      "source": [
        "Split Data (Train & Test)\n",
        "\n",
        "Since the dataset size is 50 rows, we will dedicate 40 for training and 10 for testing. This means our testing size will be 0.20 to have 20% of 50 to be in testing and 80% of 50 to be in training."
      ]
    },
    {
      "cell_type": "code",
      "metadata": {
        "id": "0EMn9bgypS7c"
      },
      "source": [
        "from sklearn.model_selection import train_test_split\n",
        "X_train, X_val, y_train, y_val = train_test_split(X, y, test_size = 0.20, random_state=1234)"
      ],
      "execution_count": null,
      "outputs": []
    },
    {
      "cell_type": "markdown",
      "metadata": {
        "id": "HhN9jbYrkLed"
      },
      "source": [
        "## <font color='orange'> DATA MODELING - PART 1 - UNSUPERVISED LEARNING </font>"
      ]
    },
    {
      "cell_type": "code",
      "metadata": {
        "id": "-YIE6FiBvFdW"
      },
      "source": [
        "#Feature Scaling \n",
        "minMax    = MinMaxScaler()\n",
        "clust_df  = minMax.fit_transform(df)"
      ],
      "execution_count": 32,
      "outputs": []
    },
    {
      "cell_type": "code",
      "metadata": {
        "id": "TKNSD5o4wDJi"
      },
      "source": [
        "#Build a model\n",
        "kMeansModel = KMeans(n_clusters=3, max_iter=1000, random_state=50).fit(clust_df)\n",
        "df['cluster'] = kMeansModel.labels_"
      ],
      "execution_count": 33,
      "outputs": []
    },
    {
      "cell_type": "code",
      "metadata": {
        "colab": {
          "base_uri": "https://localhost:8080/"
        },
        "id": "_UEND_yJymx4",
        "outputId": "1eabd387-b86d-4d90-82e9-0f5fdef98f8a"
      },
      "source": [
        "cluster_songs = {}\n",
        "for (index, row), clust in zip(tracks_df.iterrows(), df['cluster']):\n",
        "    if clust not in cluster_songs:\n",
        "        cluster_songs[clust] = []\n",
        "    cluster_songs[clust].append('Song: {} by {}'.format(row['track_name'], row['artists_names']))\n",
        "\n",
        "\n",
        "for clust, songs in cluster_songs.items():\n",
        "    print(clust)\n",
        "    for song in songs:\n",
        "        print(\"\\t\", song)\n",
        "    print(\"\\n\")"
      ],
      "execution_count": 34,
      "outputs": [
        {
          "output_type": "stream",
          "name": "stdout",
          "text": [
            "0\n",
            "\t Song: One Dance by Drake, WizKid, Kyla\n",
            "\t Song: Sunflower - Spider-Man: Into the Spider-Verse by Post Malone, Swae Lee\n",
            "\t Song: Can't Hold Us - feat. Ray Dalton by Macklemore & Ryan Lewis\n",
            "\t Song: Somebody That I Used To Know by Gotye, Kimbra\n",
            "\t Song: Wake Me Up by Avicii\n",
            "\t Song: Cheerleader - Felix Jaehn Remix Radio Edit by OMI, Felix Jaehn\n",
            "\t Song: Thinking out Loud by Ed Sheeran\n",
            "\t Song: Despacito by Luis Fonsi, Daddy Yankee\n",
            "\t Song: Old Town Road - Remix by Lil Nas X, Billy Ray Cyrus\n",
            "\t Song: Danza Kuduro by Don Omar, Lucenzo\n",
            "\t Song: Uptown Funk (feat. Bruno Mars) by Mark Ronson, Bruno Mars\n",
            "\t Song: Despacito - Remix by Luis Fonsi, Daddy Yankee, Justin Bieber\n",
            "\t Song: Whistle by Flo Rida\n",
            "\t Song: In My Feelings by Drake\n",
            "\n",
            "\n",
            "1\n",
            "\t Song: Lean On (feat. MØ & DJ Snake) by MØ, DJ Snake, Major Lazer\n",
            "\t Song: 7 rings by Ariana Grande\n",
            "\t Song: Shape of You by Ed Sheeran\n",
            "\t Song: Grenade by Bruno Mars\n",
            "\t Song: Señorita by Shawn Mendes, Camila Cabello\n",
            "\t Song: Airplanes (feat. Hayley Williams of Paramore) by B.o.B, Hayley Williams\n",
            "\t Song: Thrift Shop (feat. Wanz) by Macklemore & Ryan Lewis, Wanz\n",
            "\t Song: Summer by Calvin Harris\n",
            "\t Song: rockstar (feat. 21 Savage) by Post Malone, 21 Savage\n",
            "\t Song: I Took A Pill In Ibiza - Seeb Remix by Mike Posner, Seeb\n",
            "\t Song: HUMBLE. by Kendrick Lamar\n",
            "\t Song: Waka Waka (This Time for Africa) [The Official 2010 FIFA World Cup (TM) Song] (feat. Freshlyground) by Shakira, Freshlyground\n",
            "\t Song: Cheap Thrills by Sia\n",
            "\t Song: Only Girl (In The World) by Rihanna\n",
            "\t Song: Happy - From \"Despicable Me 2\" by Pharrell Williams\n",
            "\t Song: Starships by Nicki Minaj\n",
            "\t Song: Party Rock Anthem by LMFAO, Lauren Bennett, GoonRock\n",
            "\t Song: Something Just Like This by The Chainsmokers, Coldplay\n",
            "\t Song: Not Afraid by Eminem\n",
            "\n",
            "\n",
            "2\n",
            "\t Song: Rolling in the Deep by Adele\n",
            "\t Song: Love The Way You Lie by Eminem, Rihanna\n",
            "\t Song: bad guy by Billie Eilish\n",
            "\t Song: Rather Be (feat. Jess Glynne) by Clean Bandit, Jess Glynne\n",
            "\t Song: Call Me Maybe by Carly Rae Jepsen\n",
            "\t Song: We Are Young (feat. Janelle Monáe) by fun., Janelle Monáe\n",
            "\t Song: Closer by The Chainsmokers, Halsey\n",
            "\t Song: See You Again (feat. Charlie Puth) by Wiz Khalifa, Charlie Puth\n",
            "\t Song: Radioactive by Imagine Dragons\n",
            "\t Song: SAD! by XXXTENTACION\n",
            "\t Song: God's Plan by Drake\n",
            "\t Song: Don't Let Me Down (feat. Daya) by The Chainsmokers, Daya\n",
            "\t Song: Dark Horse by Katy Perry, Juicy J\n",
            "\t Song: Psycho (feat. Ty Dolla $ign) by Post Malone, Ty Dolla $ign\n",
            "\t Song: On The Floor - Radio Edit by Jennifer Lopez, Pitbull\n",
            "\t Song: All of Me by John Legend\n",
            "\t Song: Let Her Go by Passenger\n",
            "\n",
            "\n"
          ]
        }
      ]
    },
    {
      "cell_type": "code",
      "metadata": {
        "id": "Zo7WB9kr097s"
      },
      "source": [
        ""
      ],
      "execution_count": null,
      "outputs": []
    }
  ]
}