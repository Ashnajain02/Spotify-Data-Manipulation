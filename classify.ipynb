{
  "nbformat": 4,
  "nbformat_minor": 0,
  "metadata": {
    "colab": {
      "name": "classify.ipynb",
      "provenance": []
    },
    "kernelspec": {
      "name": "python3",
      "display_name": "Python 3"
    },
    "language_info": {
      "name": "python"
    }
  },
  "cells": [
    {
      "cell_type": "code",
      "metadata": {
        "colab": {
          "base_uri": "https://localhost:8080/"
        },
        "id": "FYKNvzE1n-1o",
        "outputId": "7934a2e3-911c-4d99-c645-c9e9f7172949"
      },
      "source": [
        "pip install spotipy"
      ],
      "execution_count": null,
      "outputs": [
        {
          "output_type": "stream",
          "name": "stdout",
          "text": [
            "Collecting spotipy\n",
            "  Downloading spotipy-2.19.0-py3-none-any.whl (27 kB)\n",
            "Requirement already satisfied: six>=1.15.0 in /usr/local/lib/python3.7/dist-packages (from spotipy) (1.15.0)\n",
            "Collecting urllib3>=1.26.0\n",
            "  Downloading urllib3-1.26.7-py2.py3-none-any.whl (138 kB)\n",
            "\u001b[K     |████████████████████████████████| 138 kB 5.0 MB/s \n",
            "\u001b[?25hCollecting requests>=2.25.0\n",
            "  Downloading requests-2.26.0-py2.py3-none-any.whl (62 kB)\n",
            "\u001b[K     |████████████████████████████████| 62 kB 866 kB/s \n",
            "\u001b[?25hRequirement already satisfied: idna<4,>=2.5 in /usr/local/lib/python3.7/dist-packages (from requests>=2.25.0->spotipy) (2.10)\n",
            "Requirement already satisfied: certifi>=2017.4.17 in /usr/local/lib/python3.7/dist-packages (from requests>=2.25.0->spotipy) (2021.10.8)\n",
            "Requirement already satisfied: charset-normalizer~=2.0.0 in /usr/local/lib/python3.7/dist-packages (from requests>=2.25.0->spotipy) (2.0.7)\n",
            "Installing collected packages: urllib3, requests, spotipy\n",
            "  Attempting uninstall: urllib3\n",
            "    Found existing installation: urllib3 1.24.3\n",
            "    Uninstalling urllib3-1.24.3:\n",
            "      Successfully uninstalled urllib3-1.24.3\n",
            "  Attempting uninstall: requests\n",
            "    Found existing installation: requests 2.23.0\n",
            "    Uninstalling requests-2.23.0:\n",
            "      Successfully uninstalled requests-2.23.0\n",
            "\u001b[31mERROR: pip's dependency resolver does not currently take into account all the packages that are installed. This behaviour is the source of the following dependency conflicts.\n",
            "google-colab 1.0.0 requires requests~=2.23.0, but you have requests 2.26.0 which is incompatible.\n",
            "datascience 0.10.6 requires folium==0.2.1, but you have folium 0.8.3 which is incompatible.\u001b[0m\n",
            "Successfully installed requests-2.26.0 spotipy-2.19.0 urllib3-1.26.7\n"
          ]
        }
      ]
    },
    {
      "cell_type": "code",
      "metadata": {
        "id": "4WkQVfgCoCe0"
      },
      "source": [
        "import numpy as np\n",
        "import matplotlib.pyplot as plt\n",
        "import matplotlib.cm as cm\n",
        "import pandas as pd\n",
        "\n",
        "import spotipy\n",
        "from spotipy.oauth2 import SpotifyClientCredentials\n",
        "\n",
        "from sklearn.cluster import KMeans\n",
        "from sklearn.metrics import silhouette_samples, silhouette_score\n",
        "\n",
        "from sklearn.preprocessing import OneHotEncoder\n",
        "from sklearn.preprocessing import StandardScaler, MinMaxScaler\n",
        "from sklearn.model_selection import train_test_split\n",
        "from sklearn.tree import DecisionTreeRegressor\n",
        "from sklearn.neighbors import KNeighborsRegressor\n",
        "\n",
        "\n",
        "from sklearn.model_selection import GridSearchCV\n",
        "from sklearn.metrics import mean_squared_error\n",
        "from sklearn import tree"
      ],
      "execution_count": null,
      "outputs": []
    },
    {
      "cell_type": "code",
      "metadata": {
        "id": "WnCFFsjFoECK"
      },
      "source": [
        "CLIENT_ID     = '3ac63637251243ab9871628ef62018b4'\n",
        "CLIENT_SECRET = 'b27c42db70e046b0b98ad6cfdde08a12'\n",
        "PLAYLIST_ID   = '37i9dQZF1DWYJ5kmTbkZiz' # Spotify playlist id\n",
        "\n",
        "# API Login\n",
        "client_credentials_manager=SpotifyClientCredentials(client_id=CLIENT_ID, client_secret=CLIENT_SECRET)\n",
        "sp = spotipy.Spotify(client_credentials_manager=client_credentials_manager) \n",
        "\n",
        "# Obtain Tracks of Playlist\n",
        "tracks = sp.user_playlist_tracks(user='spotify', playlist_id=PLAYLIST_ID)\n",
        "tracks_uri_list = [x['track']['uri'] for x in tracks['items']]\n",
        "\n",
        "# Obtain Features of Tracks\n",
        "features = []\n",
        "for i in tracks_uri_list:\n",
        "    features = features + sp.audio_features(i)\n",
        "\n",
        "# Create Feature Dataframe\n",
        "df = pd.DataFrame(features)"
      ],
      "execution_count": null,
      "outputs": []
    },
    {
      "cell_type": "code",
      "metadata": {
        "id": "qs7oNj6uoFqx"
      },
      "source": [
        "tracks_df = pd.DataFrame()\n",
        "\n",
        "# Get Track Name\n",
        "tracks_df['track_name'] = [x['track']['name'] for x in tracks['items']]\n",
        "\n",
        "# Get Artists Names\n",
        "artists_names = []\n",
        "for x in tracks['items']:\n",
        "    artists_names.append(', '.join(y['name'] for y in x['track']['artists']))\n",
        "    \n",
        "tracks_df['artists_names'] = artists_names"
      ],
      "execution_count": null,
      "outputs": []
    },
    {
      "cell_type": "markdown",
      "metadata": {
        "id": "R-HfS-GPkLeU"
      },
      "source": [
        "DATA PREPROCESSING\n",
        "\n",
        "Since there were no missing data in each feature, no rows will be dropped. However, since there are some features that are not value adding to the modeling, those will be dropped. The features that will be droppped are: ```analysis_url```, ```id```, ```track_href```, ```type``` and ```uri```."
      ]
    },
    {
      "cell_type": "code",
      "metadata": {
        "colab": {
          "base_uri": "https://localhost:8080/"
        },
        "id": "Obydy74QoG_6",
        "outputId": "adfecedf-ae3b-4b8b-97e6-f2c9f6a1c5ad"
      },
      "source": [
        "# Define Features to Drop\n",
        "dropCols = ['analysis_url', 'id', 'track_href', 'type', 'uri']\n",
        "\n",
        "# Drop Features\n",
        "df.drop(dropCols, axis=1, inplace=True)\n",
        "\n",
        "# Ensure Features are dropped\n",
        "df.columns"
      ],
      "execution_count": null,
      "outputs": [
        {
          "output_type": "execute_result",
          "data": {
            "text/plain": [
              "Index(['danceability', 'energy', 'key', 'loudness', 'mode', 'speechiness',\n",
              "       'acousticness', 'instrumentalness', 'liveness', 'valence', 'tempo',\n",
              "       'duration_ms', 'time_signature'],\n",
              "      dtype='object')"
            ]
          },
          "metadata": {},
          "execution_count": 5
        }
      ]
    },
    {
      "cell_type": "code",
      "metadata": {
        "id": "lvtIt_PYodXp"
      },
      "source": [
        "#Split Data (Independent Variables [X] & Dependent Variable [y])\n",
        "\n",
        "dependentVar = 'danceability' # Goal to predict danceability!\n",
        "\n",
        "X = df.loc[:, df.columns != dependentVar] #Independent\n",
        "y = df[dependentVar].values #Dependent"
      ],
      "execution_count": null,
      "outputs": []
    },
    {
      "cell_type": "code",
      "metadata": {
        "colab": {
          "base_uri": "https://localhost:8080/"
        },
        "id": "wcACupvwozTl",
        "outputId": "eaa2b98d-6b0e-4f9d-f681-c01e27ad1bcb"
      },
      "source": [
        "features = X.columns.tolist() #features that we will use to predict danceability\n",
        "print(features)"
      ],
      "execution_count": null,
      "outputs": [
        {
          "output_type": "stream",
          "name": "stdout",
          "text": [
            "['energy', 'key', 'loudness', 'mode', 'speechiness', 'acousticness', 'instrumentalness', 'liveness', 'valence', 'tempo', 'duration_ms', 'time_signature']\n"
          ]
        }
      ]
    },
    {
      "cell_type": "code",
      "metadata": {
        "id": "3DoaH_nzo3XI"
      },
      "source": [
        "#Feature Scaling\n",
        "sc = StandardScaler()\n",
        "X  = sc.fit_transform(X) #scaled all the features so that they are in the same range"
      ],
      "execution_count": null,
      "outputs": []
    },
    {
      "cell_type": "markdown",
      "metadata": {
        "id": "YT1boaORZUi6"
      },
      "source": [
        "Split Data (Train & Test)\n",
        "\n",
        "Since the dataset size is 50 rows, we will dedicate 40 for training and 10 for testing. This means our testing size will be 0.20 to have 20% of 50 to be in testing and 80% of 50 to be in training."
      ]
    },
    {
      "cell_type": "code",
      "metadata": {
        "id": "0EMn9bgypS7c"
      },
      "source": [
        "from sklearn.model_selection import train_test_split\n",
        "X_train, X_val, y_train, y_val = train_test_split(X, y, test_size = 0.20, random_state=1234)"
      ],
      "execution_count": null,
      "outputs": []
    },
    {
      "cell_type": "markdown",
      "metadata": {
        "id": "85pfKC_wZUi6"
      },
      "source": [
        "## <font color='orange'> DATA MODELING - PART 2 - SUPERVISED LEARNING  </font>"
      ]
    },
    {
      "cell_type": "code",
      "metadata": {
        "id": "BZMtmaYrpf7p"
      },
      "source": [
        "df_Model   = pd.DataFrame(columns = ['Model Name', 'RMSE Score']) # Lower the RMSE the better\n",
        "dict_Model = {}"
      ],
      "execution_count": null,
      "outputs": []
    },
    {
      "cell_type": "code",
      "metadata": {
        "colab": {
          "base_uri": "https://localhost:8080/"
        },
        "id": "ABILIxScpysi",
        "outputId": "4ee99161-0f6f-496e-fe41-191306a988a4"
      },
      "source": [
        "#Building a model on TRAINING Data\n",
        "dtModel = DecisionTreeRegressor()\n",
        "dtModel.fit(X_train, y_train)"
      ],
      "execution_count": null,
      "outputs": [
        {
          "output_type": "execute_result",
          "data": {
            "text/plain": [
              "DecisionTreeRegressor()"
            ]
          },
          "metadata": {},
          "execution_count": 11
        }
      ]
    },
    {
      "cell_type": "code",
      "metadata": {
        "colab": {
          "base_uri": "https://localhost:8080/"
        },
        "id": "IZzXI-LPp6T_",
        "outputId": "528c5c3e-1a21-44b1-d97d-740e59faefbf"
      },
      "source": [
        "#Verify model on validation(testing) set\n",
        "y_pred = dtModel.predict(X_val) #using the DT Regressor, predict the y-values of the x_vals testing set\n",
        "\n",
        "print(y_val) #actual y-values of the testing/validation set\n",
        "print(y_pred) #predicted y-values of the testing/validation set "
      ],
      "execution_count": null,
      "outputs": [
        {
          "output_type": "stream",
          "name": "stdout",
          "text": [
            "[0.649 0.617 0.778 0.751 0.378 0.856 0.749 0.655 0.865 0.835]\n",
            "[0.664 0.782 0.645 0.509 0.758 0.758 0.4   0.664 0.781 0.704]\n"
          ]
        }
      ]
    },
    {
      "cell_type": "code",
      "metadata": {
        "colab": {
          "base_uri": "https://localhost:8080/"
        },
        "id": "-g8f2CvOqOxK",
        "outputId": "7c10744a-1953-4b4f-c5b8-3c4c8a38d06b"
      },
      "source": [
        "rmse             = round((mean_squared_error(y_val, y_pred)**(1/2)), 2)\n",
        "name             = 'DT Base'\n",
        "df_Model         = df_Model.append({'Model Name':name, 'RMSE Score':rmse}, ignore_index=True)\n",
        "dict_Model[name] = dtModel\n",
        "\n",
        "param_grid_dt = {     \n",
        "    'criterion': ['mse', 'mae'],  \n",
        "    'splitter': ['best', 'random'],      \n",
        "    'max_depth': [None, 2, 4, 6, 8, 10]\n",
        "}\n",
        "\n",
        "dtModel_grid = GridSearchCV(estimator=DecisionTreeRegressor(), param_grid=param_grid_dt, \n",
        "                            scoring='neg_root_mean_squared_error', verbose=1, cv=10, n_jobs=-1)\n",
        "dtModel_grid.fit(X_train, y_train)\n",
        "\n",
        "print(dtModel_grid.best_estimator_)"
      ],
      "execution_count": null,
      "outputs": [
        {
          "output_type": "stream",
          "name": "stdout",
          "text": [
            "Fitting 10 folds for each of 24 candidates, totalling 240 fits\n",
            "DecisionTreeRegressor(criterion='mse', max_depth=4, splitter='random')\n"
          ]
        },
        {
          "output_type": "stream",
          "name": "stderr",
          "text": [
            "/usr/local/lib/python3.7/dist-packages/sklearn/tree/_classes.py:363: FutureWarning: Criterion 'mse' was deprecated in v1.0 and will be removed in version 1.2. Use `criterion='squared_error'` which is equivalent.\n",
            "  FutureWarning,\n"
          ]
        }
      ]
    },
    {
      "cell_type": "code",
      "metadata": {
        "colab": {
          "base_uri": "https://localhost:8080/"
        },
        "id": "6rdELNxiqSQd",
        "outputId": "577517bc-7823-4b30-96b0-c6cf5b7ba43a"
      },
      "source": [
        "y_pred = dtModel_grid.predict(X_val)\n",
        "\n",
        "print(y_val)\n",
        "print(y_pred)"
      ],
      "execution_count": null,
      "outputs": [
        {
          "output_type": "stream",
          "name": "stdout",
          "text": [
            "[0.649 0.617 0.778 0.751 0.378 0.856 0.749 0.655 0.865 0.835]\n",
            "[0.65745455 0.73291667 0.8072     0.65745455 0.65745455 0.73291667\n",
            " 0.73291667 0.65745455 0.65745455 0.73291667]\n"
          ]
        }
      ]
    },
    {
      "cell_type": "code",
      "metadata": {
        "id": "EQ7nqc7Aqf_r"
      },
      "source": [
        "rmse             = round((mean_squared_error(y_val, y_pred)**(1/2)), 2)\n",
        "name             = 'DT Tune'\n",
        "df_Model         = df_Model.append({'Model Name':name, 'RMSE Score':rmse}, ignore_index=True)\n",
        "dict_Model[name] = dtModel_grid\n"
      ],
      "execution_count": null,
      "outputs": []
    },
    {
      "cell_type": "code",
      "metadata": {
        "colab": {
          "base_uri": "https://localhost:8080/"
        },
        "id": "SlIAKQJzqltL",
        "outputId": "eececf7b-7a8e-4f28-cfa1-f077c8275865"
      },
      "source": [
        "text_representation = tree.export_text(dtModel_grid.best_estimator_)\n",
        "print(text_representation)"
      ],
      "execution_count": null,
      "outputs": [
        {
          "output_type": "stream",
          "name": "stdout",
          "text": [
            "|--- feature_11 <= -0.35\n",
            "|   |--- value: [0.40]\n",
            "|--- feature_11 >  -0.35\n",
            "|   |--- feature_10 <= -0.50\n",
            "|   |   |--- feature_7 <= 3.48\n",
            "|   |   |   |--- feature_9 <= 0.05\n",
            "|   |   |   |   |--- value: [0.74]\n",
            "|   |   |   |--- feature_9 >  0.05\n",
            "|   |   |   |   |--- value: [0.81]\n",
            "|   |   |--- feature_7 >  3.48\n",
            "|   |   |   |--- value: [0.45]\n",
            "|   |--- feature_10 >  -0.50\n",
            "|   |   |--- feature_5 <= 2.04\n",
            "|   |   |   |--- feature_9 <= 0.13\n",
            "|   |   |   |   |--- value: [0.73]\n",
            "|   |   |   |--- feature_9 >  0.13\n",
            "|   |   |   |   |--- value: [0.66]\n",
            "|   |   |--- feature_5 >  2.04\n",
            "|   |   |   |--- value: [0.42]\n",
            "\n"
          ]
        }
      ]
    },
    {
      "cell_type": "code",
      "metadata": {
        "colab": {
          "base_uri": "https://localhost:8080/",
          "height": 469
        },
        "id": "-D6RMNXKqmCD",
        "outputId": "6eab2c5f-4467-4014-8514-7205ab7fd7e4"
      },
      "source": [
        "tree.plot_tree(dtModel_grid.best_estimator_)"
      ],
      "execution_count": null,
      "outputs": [
        {
          "output_type": "execute_result",
          "data": {
            "text/plain": [
              "[Text(148.8, 195.696, 'X[11] <= -0.353\\nmse = 0.014\\nsamples = 40\\nvalue = 0.699'),\n",
              " Text(111.60000000000001, 152.208, 'mse = 0.0\\nsamples = 1\\nvalue = 0.4'),\n",
              " Text(186.0, 152.208, 'X[10] <= -0.5\\nmse = 0.012\\nsamples = 39\\nvalue = 0.707'),\n",
              " Text(111.60000000000001, 108.72, 'X[7] <= 3.483\\nmse = 0.01\\nsamples = 15\\nvalue = 0.741'),\n",
              " Text(74.4, 65.232, 'X[9] <= 0.053\\nmse = 0.004\\nsamples = 14\\nvalue = 0.762'),\n",
              " Text(37.2, 21.744, 'mse = 0.002\\nsamples = 9\\nvalue = 0.737'),\n",
              " Text(111.60000000000001, 21.744, 'mse = 0.006\\nsamples = 5\\nvalue = 0.807'),\n",
              " Text(148.8, 65.232, 'mse = 0.0\\nsamples = 1\\nvalue = 0.448'),\n",
              " Text(260.40000000000003, 108.72, 'X[5] <= 2.044\\nmse = 0.012\\nsamples = 24\\nvalue = 0.685'),\n",
              " Text(223.20000000000002, 65.232, 'X[9] <= 0.129\\nmse = 0.009\\nsamples = 23\\nvalue = 0.697'),\n",
              " Text(186.0, 21.744, 'mse = 0.008\\nsamples = 12\\nvalue = 0.733'),\n",
              " Text(260.40000000000003, 21.744, 'mse = 0.008\\nsamples = 11\\nvalue = 0.657'),\n",
              " Text(297.6, 65.232, 'mse = 0.0\\nsamples = 1\\nvalue = 0.422')]"
            ]
          },
          "metadata": {},
          "execution_count": 18
        },
        {
          "output_type": "display_data",
          "data": {
            "image/png": "[encoded data removed]",
            "text/plain": [
              "<Figure size 432x288 with 1 Axes>"
            ]
          },
          "metadata": {
            "needs_background": "light"
          }
        }
      ]
    },
    {
      "cell_type": "markdown",
      "metadata": {
        "id": "Yj2aoflgZUi9"
      },
      "source": [
        "### <font color='pink'> K-NEAREST NEIGHBORS (KNN) </font>"
      ]
    },
    {
      "cell_type": "code",
      "metadata": {
        "colab": {
          "base_uri": "https://localhost:8080/"
        },
        "id": "-iS3Lv1qqnz1",
        "outputId": "71855a69-af76-4dfd-af43-8546b9512682"
      },
      "source": [
        "#Build a model on TRAINING data\n",
        "kNNModel = KNeighborsRegressor()\n",
        "kNNModel.fit(X_train, y_train)"
      ],
      "execution_count": null,
      "outputs": [
        {
          "output_type": "execute_result",
          "data": {
            "text/plain": [
              "KNeighborsRegressor()"
            ]
          },
          "metadata": {},
          "execution_count": 20
        }
      ]
    },
    {
      "cell_type": "code",
      "metadata": {
        "colab": {
          "base_uri": "https://localhost:8080/"
        },
        "id": "pd4VQYOlrMUf",
        "outputId": "e6eca440-86a7-44f4-f797-71446bfff65f"
      },
      "source": [
        "#Verify Model on Validation Data\n",
        "y_pred = kNNModel.predict(X_val)\n",
        "\n",
        "print(y_val)\n",
        "print(y_pred)"
      ],
      "execution_count": null,
      "outputs": [
        {
          "output_type": "stream",
          "name": "stdout",
          "text": [
            "[0.649 0.617 0.778 0.751 0.378 0.856 0.749 0.655 0.865 0.835]\n",
            "[0.648  0.7538 0.7456 0.6412 0.7054 0.6968 0.6588 0.648  0.7186 0.6996]\n"
          ]
        }
      ]
    },
    {
      "cell_type": "code",
      "metadata": {
        "colab": {
          "base_uri": "https://localhost:8080/"
        },
        "id": "hQ1XTu2zrU5Q",
        "outputId": "0eb26b7f-ad8f-418d-e643-ac59942fb87a"
      },
      "source": [
        "from sklearn.metrics import mean_squared_error\n",
        "\n",
        "rmse             = round((mean_squared_error(y_val, y_pred)**(1/2)), 2)\n",
        "name             = 'KNN Base'\n",
        "df_Model         = df_Model.append({'Model Name':name, 'RMSE Score':rmse}, ignore_index=True)\n",
        "dict_Model[name] = kNNModel\n",
        "\n",
        "param_grid_knn = {\n",
        "    'n_neighbors': [2, 5, 10, 15],                                   \n",
        "    'algorithm': ['brute', 'auto'],          \n",
        "    'metric': ['minkowski', 'euclidean', 'manhattan', 'chebyshev']\n",
        "}\n",
        "\n",
        "kNNModel_grid = GridSearchCV(estimator=KNeighborsRegressor(), param_grid=param_grid_knn, \n",
        "                             scoring='neg_root_mean_squared_error', verbose=1, cv=10, n_jobs=-1)\n",
        "kNNModel_grid.fit(X_train, y_train)\n",
        "\n",
        "print(kNNModel_grid.best_estimator_)"
      ],
      "execution_count": null,
      "outputs": [
        {
          "output_type": "stream",
          "name": "stdout",
          "text": [
            "Fitting 10 folds for each of 32 candidates, totalling 320 fits\n",
            "KNeighborsRegressor(algorithm='brute', metric='manhattan', n_neighbors=15)\n"
          ]
        }
      ]
    },
    {
      "cell_type": "code",
      "metadata": {
        "id": "flqTF4LVrvRG"
      },
      "source": [
        "rmse             = round((mean_squared_error(y_val, y_pred)**(1/2)), 2)\n",
        "name             = 'KNN Tune'\n",
        "df_Model         = df_Model.append({'Model Name':name, 'RMSE Score':rmse}, ignore_index=True)\n",
        "dict_Model[name] = kNNModel_grid"
      ],
      "execution_count": null,
      "outputs": []
    }
  ]
}